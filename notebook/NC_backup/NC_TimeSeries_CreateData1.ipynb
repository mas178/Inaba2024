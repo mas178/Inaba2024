{
 "cells": [
  {
   "cell_type": "markdown",
   "id": "7455c796-3589-4d08-8663-ed59321ea933",
   "metadata": {},
   "source": [
    "# Creat data for time series analysis 1"
   ]
  },
  {
   "cell_type": "code",
   "execution_count": 1,
   "id": "6491be8e-0c85-4929-9e95-ed0059903cfa",
   "metadata": {},
   "outputs": [],
   "source": [
    "using Dates\n",
    "using DataFrames: DataFrame\n",
    "using Random: MersenneTwister\n",
    "using JLD2: @save\n",
    "\n",
    "include(\"../src/Simulation.jl\")\n",
    "using Main.Simulation: Param, Model, Strategy, POPULATION, PAYOFF, STRATEGY_MUTATION, RELATIONSHIP_MUTATION, interaction!, death!, birth!\n",
    "\n",
    "include(\"../src/Network.jl\")\n",
    "using Main.Network: normalize_degree!, normalize_weight!, nv"
   ]
  },
  {
   "cell_type": "code",
   "execution_count": 2,
   "id": "dadc382a-a616-4ee3-9589-84121e96aa9f",
   "metadata": {
    "tags": []
   },
   "outputs": [],
   "source": [
    "function run(model::Model)::Tuple{Vector{Vector{Strategy}}, Vector{Matrix{Float16}}}\n",
    "    @show model.param.variability_mode\n",
    "\n",
    "    strategy_vec_vec = []\n",
    "    weights_vec = []\n",
    "\n",
    "    for generation = 1:(model.param.generations)\n",
    "        model.generation = generation\n",
    "        model.payoff_vec .= 0.0\n",
    "\n",
    "        interaction!(model)\n",
    "        death!(model, model.param.rng)\n",
    "        birth!(model, model.param.rng)\n",
    "        normalize_degree!(model.weights, model.param.initial_k)\n",
    "\n",
    "        # normalize_weight!\n",
    "        current_N = nv(model.weights)\n",
    "        std_weight_sum = Float64(model.param.initial_w) * min(model.param.initial_k, current_N) * current_N\n",
    "        normalize_weight!(model.weights, std_weight_sum)\n",
    "\n",
    "        push!(strategy_vec_vec, copy(model.strategy_vec))\n",
    "        push!(weights_vec, copy(model.weights))\n",
    "    end\n",
    "    \n",
    "    return strategy_vec_vec, weights_vec\n",
    "end;"
   ]
  },
  {
   "cell_type": "code",
   "execution_count": 3,
   "id": "2efa17dc-c883-40fd-963e-82e8d373d31e",
   "metadata": {
    "tags": []
   },
   "outputs": [],
   "source": [
    "trial = 10\n",
    "timesteps = 6000\n",
    "\n",
    "# Common parameters\n",
    "common_params = Dict{Any, Any}(\n",
    "    :initial_N => 1000,\n",
    "    :initial_k => 100,\n",
    "    :initial_T => 1.5,\n",
    "    :S => -0.5,\n",
    "    :initial_w => 0.5,\n",
    "    :Δw => 0.05,\n",
    "    :interaction_freqency => 1.0,\n",
    "    :reproduction_rate => 0.05,\n",
    "    :δ => 1.0,\n",
    "    :initial_μ_s => 0.01,\n",
    "    :initial_μ_r => 0.01,\n",
    "    :generations => timesteps,\n",
    ")\n",
    "\n",
    "# Stable parameters\n",
    "stable_params = copy(common_params)\n",
    "stable_params[:β] = 0.0\n",
    "stable_params[:sigma] = 0.0\n",
    "\n",
    "# POPULATION variable parameters\n",
    "population_params = copy(common_params)\n",
    "population_params[:variability_mode] = POPULATION\n",
    "population_params[:β] = 0.8\n",
    "population_params[:sigma] = 180.0\n",
    "\n",
    "# PAYOFF variable parameters\n",
    "payoff_params = copy(common_params)\n",
    "payoff_params[:variability_mode] = PAYOFF\n",
    "payoff_params[:β] = 0.9\n",
    "payoff_params[:sigma] = 0.5\n",
    "\n",
    "# # STRATEGY_MUTATION variable parameters\n",
    "# strategy_params = copy(common_params)\n",
    "# strategy_params[:variability_mode] = STRATEGY_MUTATION\n",
    "# strategy_params[:initial_μ_s] = 0.05\n",
    "# strategy_params[:β] = 0.8\n",
    "# strategy_params[:sigma] = 0.045\n",
    "\n",
    "# # RELATIONSHIP_MUTATION variable parameters\n",
    "# relationship_params = copy(common_params)\n",
    "# relationship_params[:variability_mode] = RELATIONSHIP_MUTATION\n",
    "# strategy_params[:initial_μ_r] = 0.05\n",
    "# relationship_params[:β] = 0.8\n",
    "# relationship_params[:sigma] = 0.045\n",
    "\n",
    "# Paramベクトルの生成\n",
    "# param_dic_vec = [stable_params, population_params, payoff_params, strategy_params, relationship_params]\n",
    "param_dic_vec = [stable_params, population_params, payoff_params]\n",
    "param_vec_vec = [[Param(; param..., rng = MersenneTwister(seed)) for seed in 1:trial] for param in param_dic_vec]\n",
    "\n",
    "# Modelベクトルの生成\n",
    "model_vec_vec = [[Model(param) for param in param_vec] for param_vec in param_vec_vec];"
   ]
  },
  {
   "cell_type": "code",
   "execution_count": 4,
   "id": "7428ddbf-d8de-46cd-8887-e63d2d33a01e",
   "metadata": {
    "tags": []
   },
   "outputs": [
    {
     "name": "stdout",
     "output_type": "stream",
     "text": [
      "2024-1-29 17:2:2\n",
      "model.param.variability_mode = POPULATION\n",
      "model.param.variability_mode = POPULATION\n",
      "model.param.variability_mode = PAYOFF\n",
      "model.param.variability_mode = POPULATION\n",
      "model.param.variability_mode = PAYOFF\n",
      "model.param.variability_mode = POPULATION\n",
      "model.param.variability_mode = POPULATION\n",
      "model.param.variability_mode = PAYOFF\n",
      "model.param.variability_mode = POPULATION\n",
      "model.param.variability_mode = POPULATION\n",
      "model.param.variability_mode = PAYOFF\n",
      "model.param.variability_mode = POPULATION\n",
      "model.param.variability_mode = POPULATION\n",
      "model.param.variability_mode = PAYOFF\n",
      "model.param.variability_mode = POPULATION\n",
      "model.param.variability_mode = POPULATION\n",
      "model.param.variability_mode = POPULATION\n",
      "model.param.variability_mode = PAYOFF\n",
      "model.param.variability_mode = POPULATION\n",
      "model.param.variability_mode = POPULATION\n",
      "model.param.variability_mode = PAYOFF\n",
      "model.param.variability_mode = POPULATION\n",
      "model.param.variability_mode = POPULATION\n",
      "model.param.variability_mode = PAYOFF\n",
      "model.param.variability_mode = POPULATION\n",
      "model.param.variability_mode = POPULATION\n",
      "model.param.variability_mode = PAYOFF\n",
      "model.param.variability_mode = POPULATION\n",
      "model.param.variability_mode = POPULATION\n",
      "model.param.variability_mode = PAYOFF\n",
      "4377.702556 seconds (4.58 G allocations: 2.573 TiB, 54.70% gc time, 0.09% compilation time)\n",
      "2024-1-29 18:14:59\n"
     ]
    }
   ],
   "source": [
    "println(Dates.format(now(), \"Y-m-d H:M:S\"))\n",
    "\n",
    "# 989.715908 seconds (8.12 G allocations: 4.322 TiB, 51.75% gc time, 0.99% compilation time)\n",
    "# 1169.336859 seconds (8.12 G allocations: 4.323 TiB, 58.49% gc time, 0.95% compilation time)\n",
    "@time result_vec_vec = fetch.(Threads.@spawn [run(model) for model in model_vec] for model_vec in model_vec_vec);\n",
    "\n",
    "println(Dates.format(now(), \"Y-m-d H:M:S\"))"
   ]
  },
  {
   "cell_type": "code",
   "execution_count": 5,
   "id": "230d7107-14c0-4306-a4bd-89ce8926e61b",
   "metadata": {},
   "outputs": [
    {
     "name": "stdout",
     "output_type": "stream",
     "text": [
      "2024-1-29 18:14:59\n",
      "168.223145 seconds (5.99 M allocations: 347.278 MiB, 0.47% gc time, 14.29% compilation time: <1% of which was recompilation)\n",
      "2024-1-29 18:17:48\n"
     ]
    }
   ],
   "source": [
    "println(Dates.format(now(), \"Y-m-d H:M:S\"))\n",
    "\n",
    "# jld2_file_snippets = [\"stable\", \"population\", \"payoff\", \"strategy\", \"relationship\"]\n",
    "jld2_file_snippets = [\"stable\", \"population\", \"payoff\"]\n",
    "\n",
    "# 641.446896 seconds (14.43 M allocations: 685.024 MiB, 0.14% gc time, 1.61% compilation time: <1% of which was recompilation)\n",
    "@time Threads.@threads for (jld2_file_snippet, result_vec) in collect(zip(jld2_file_snippets, result_vec_vec))\n",
    "    @save \"result_$(jld2_file_snippet)_vec.jld2\" compress=true result_vec\n",
    "end\n",
    "\n",
    "println(Dates.format(now(), \"Y-m-d H:M:S\"))"
   ]
  }
 ],
 "metadata": {
  "kernelspec": {
   "display_name": "Julia 1.10.0",
   "language": "julia",
   "name": "julia-1.10"
  },
  "language_info": {
   "file_extension": ".jl",
   "mimetype": "application/julia",
   "name": "julia",
   "version": "1.10.0"
  }
 },
 "nbformat": 4,
 "nbformat_minor": 5
}
