{
 "cells": [
  {
   "cell_type": "code",
   "execution_count": 1,
   "id": "0a3f6d25-c413-48bf-a088-d982265ba3e3",
   "metadata": {
    "tags": []
   },
   "outputs": [
    {
     "data": {
      "text/plain": [
       "12"
      ]
     },
     "execution_count": 1,
     "metadata": {},
     "output_type": "execute_result"
    }
   ],
   "source": [
    "using Plots: plot, plot!, Plot\n",
    "\n",
    "include(\"../src/Simulation2.jl\")\n",
    "using Main.Simulation\n",
    "\n",
    "Threads.nthreads()"
   ]
  },
  {
   "cell_type": "code",
   "execution_count": 2,
   "id": "4c21b847-2abd-45ed-b74a-c4dcc2b13180",
   "metadata": {
    "tags": []
   },
   "outputs": [],
   "source": [
    "function plot_time_series(\n",
    "    N_vec::Vector{Int},\n",
    "    cooperation_rate_matrix::Matrix{Float64},\n",
    ")::Plot\n",
    "    t_max, trial_max = size(cooperation_rate_matrix)\n",
    "\n",
    "    # Population\n",
    "    p_N = plot(N_vec, xlim = (0, t_max), xticks = 0:500:t_max, legend = false, title = \"Population\")\n",
    "    \n",
    "    # Cooperation rate\n",
    "    p_cooperation_rate_matrix = plot(xlim = (0, t_max), xticks = 0:500:t_max, ylim = (0, 1), yticks = 0:0.1:1, legend = false, title = \"Cooperation Rate\")\n",
    "    \n",
    "    for trial in 1:trial_max\n",
    "        plot!(cooperation_rate_matrix[:, trial])\n",
    "    end\n",
    "    \n",
    "    plot!(mean(cooperation_rate_matrix, dims=2), lc = :black, lw = 3)\n",
    "    \n",
    "    return plot(p_N, p_cooperation_rate_matrix, layout = (2, 1), size = (300, 1000))\n",
    "end;"
   ]
  },
  {
   "cell_type": "code",
   "execution_count": 3,
   "id": "598e3a34-1a34-46c1-8a19-a4ba7535166b",
   "metadata": {
    "tags": []
   },
   "outputs": [
    {
     "name": "stdout",
     "output_type": "stream",
     "text": [
      " 37.312789 seconds (29.75 M allocations: 238.665 GiB, 12.26% gc time)\n"
     ]
    }
   ],
   "source": [
    "T = 1.1\n",
    "S = -0.1\n",
    "μ = 500\n",
    "t_max = 5_000\n",
    "\n",
    "N_vec_flat = fill(μ, t_max + 1)\n",
    "\n",
    "param = Param(t_max = t_max)\n",
    "\n",
    "@time weights_matrix = Simulation.run(param, N_vec_flat, T, S);"
   ]
  },
  {
   "cell_type": "code",
   "execution_count": 4,
   "id": "c269e125-ee6e-4a15-b6e2-a55b41705056",
   "metadata": {
    "tags": []
   },
   "outputs": [
    {
     "data": {
      "text/plain": [
       "308"
      ]
     },
     "execution_count": 4,
     "metadata": {},
     "output_type": "execute_result"
    }
   ],
   "source": [
    "sum(weights_matrix[1, 1])"
   ]
  },
  {
   "cell_type": "code",
   "execution_count": 5,
   "id": "1f9ff928-1429-412d-a87b-1faf880b64cd",
   "metadata": {
    "tags": []
   },
   "outputs": [
    {
     "data": {
      "text/plain": [
       "158044"
      ]
     },
     "execution_count": 5,
     "metadata": {},
     "output_type": "execute_result"
    }
   ],
   "source": [
    "sum(weights_matrix[5000, 1])"
   ]
  },
  {
   "cell_type": "code",
   "execution_count": null,
   "id": "6639d252-334d-4026-a2f6-3871a2156ac7",
   "metadata": {
    "tags": []
   },
   "outputs": [],
   "source": [
    "using Graphs\n",
    "using GraphPlot\n",
    "using Plots: histogram\n",
    "\n",
    "g = SimpleGraph(weights_matrix[5000, 1])\n",
    "gplot(g) |> display\n",
    "degrees = degree(g)\n",
    "histogram(degrees, bins=maximum(degrees)-minimum(degrees)+1, xlabel=\"Degree\", ylabel=\"Frequency\", title=\"Degree Distribution\")"
   ]
  },
  {
   "cell_type": "code",
   "execution_count": null,
   "id": "d6137145-c84e-4e33-96b2-765f8367d46c",
   "metadata": {},
   "outputs": [],
   "source": []
  }
 ],
 "metadata": {
  "kernelspec": {
   "display_name": "Julia 1.10.2",
   "language": "julia",
   "name": "julia-1.10"
  },
  "language_info": {
   "file_extension": ".jl",
   "mimetype": "application/julia",
   "name": "julia",
   "version": "1.10.2"
  }
 },
 "nbformat": 4,
 "nbformat_minor": 5
}
