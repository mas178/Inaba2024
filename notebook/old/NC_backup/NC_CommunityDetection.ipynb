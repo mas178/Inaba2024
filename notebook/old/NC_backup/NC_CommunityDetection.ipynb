{
 "cells": [
  {
   "cell_type": "code",
   "execution_count": 1,
   "id": "f54472e1-47c3-4863-b124-b9ac47b71349",
   "metadata": {
    "tags": []
   },
   "outputs": [],
   "source": [
    "using Graphs\n",
    "using SimpleWeightedGraphs\n",
    "using StatsBase: mean"
   ]
  },
  {
   "cell_type": "code",
   "execution_count": 2,
   "id": "32e92497-87a7-4908-b7a7-9c3bcfeedfee",
   "metadata": {
    "tags": []
   },
   "outputs": [],
   "source": [
    "function create_sample_graph()::SimpleGraph\n",
    "    g = SimpleGraph(12)  # 12ノードのグラフ\n",
    "\n",
    "    # コミュニティ1\n",
    "    add_edge!(g, 1, 2)\n",
    "    add_edge!(g, 1, 3)\n",
    "    add_edge!(g, 2, 3)\n",
    "\n",
    "    # コミュニティ2\n",
    "    add_edge!(g, 4, 5)\n",
    "    add_edge!(g, 4, 6)\n",
    "    add_edge!(g, 5, 6)\n",
    "\n",
    "    # コミュニティ3\n",
    "    add_edge!(g, 7, 8)\n",
    "    add_edge!(g, 7, 9)\n",
    "    add_edge!(g, 8, 9)\n",
    "\n",
    "    # コミュニティ間の接続\n",
    "    add_edge!(g, 3, 4)\n",
    "    add_edge!(g, 6, 7)\n",
    "    add_edge!(g, 9, 1)\n",
    "\n",
    "    return g\n",
    "end\n",
    "\n",
    "function create_sample_weighted_graph()::SimpleWeightedGraph\n",
    "    g = SimpleWeightedGraph(12)  # 12ノードのグラフ\n",
    "\n",
    "    # コミュニティ1\n",
    "    add_edge!(g, 1, 2, 0.7)\n",
    "    add_edge!(g, 1, 3, 0.6)\n",
    "    add_edge!(g, 2, 3, 0.5)\n",
    "\n",
    "    # コミュニティ2\n",
    "    add_edge!(g, 4, 5, 0.3)\n",
    "    add_edge!(g, 4, 6, 0.3)\n",
    "    add_edge!(g, 5, 6, 0.3)\n",
    "\n",
    "    # コミュニティ3\n",
    "    add_edge!(g, 7, 8, 0.2)\n",
    "    add_edge!(g, 7, 9, 0.2)\n",
    "    add_edge!(g, 8, 9, 0.2)\n",
    "\n",
    "    # コミュニティ間の接続\n",
    "    add_edge!(g, 3, 4, 0.5)\n",
    "    add_edge!(g, 6, 7, 0.5)\n",
    "    add_edge!(g, 9, 1, 0.5)\n",
    "\n",
    "    return g\n",
    "end;"
   ]
  },
  {
   "cell_type": "code",
   "execution_count": 3,
   "id": "5ce9d5fb-b65b-45c0-8f63-87039b7388df",
   "metadata": {},
   "outputs": [],
   "source": [
    "function fastgreedy(g::AbstractGraph)\n",
    "    @show N = nv(g)\n",
    "    adj_mat = adjacency_matrix(g)\n",
    "\n",
    "    # 初期コミュニティの設定\n",
    "    communities = collect(1:N)\n",
    "    best_communities = copy(communities)\n",
    "\n",
    "    # 初期モジュラリティ\n",
    "    best_Q = modularity(g, communities, distmx = adj_mat)\n",
    "\n",
    "    # 各ノードを独立したコミュニティとして扱う\n",
    "    while true\n",
    "        max_increase = 0.0\n",
    "        max_i, max_j = 1, 1\n",
    "\n",
    "        # すべてのペアに対してモジュラリティの増加を試す\n",
    "        for i in Set(communities), j in Set(communities)\n",
    "            if i < j\n",
    "                j_flags = communities .== j\n",
    "                communities[j_flags] .= i\n",
    "                new_Q = modularity(g, communities, distmx = adj_mat)\n",
    "                increase = new_Q - best_Q\n",
    "\n",
    "                # モジュラリティの増加が最大のペアを見つける\n",
    "                if increase > max_increase\n",
    "                    max_increase = increase\n",
    "                    max_i, max_j = i, j\n",
    "                end\n",
    "\n",
    "                # 元に戻す\n",
    "                communities[j_flags] .= j\n",
    "            end\n",
    "        end\n",
    "\n",
    "        # モジュラリティが改善しない場合、終了\n",
    "        @show max_increase\n",
    "        if max_increase <= 0.0\n",
    "            break\n",
    "        end\n",
    "\n",
    "        # 最適なペアを統合\n",
    "        communities[communities .== max_j] .= max_i\n",
    "        best_Q += max_increase\n",
    "        best_communities = copy(communities)\n",
    "    end\n",
    "\n",
    "    return best_communities\n",
    "end\n",
    "\n",
    "using Graphs\n",
    "using SimpleWeightedGraphs\n",
    "\n",
    "function weighted_clustering_coefficient(g::SimpleWeightedGraph)\n",
    "    ccs = Dict{Int, Float64}()\n",
    "\n",
    "    for u in vertices(g)\n",
    "        neighbors_u = neighbors(g, u)\n",
    "        degree_u = degree(g, u)\n",
    "\n",
    "        if degree_u < 2\n",
    "            ccs[u] = 0.0\n",
    "            continue\n",
    "        end\n",
    "\n",
    "        local_cc = 0.0\n",
    "        for i in 1:length(neighbors_u)\n",
    "            for j in i+1:length(neighbors_u)\n",
    "                v, w = neighbors_u[i], neighbors_u[j]\n",
    "                if has_edge(g, v, w)\n",
    "                    local_cc += weights(g)[v, w]\n",
    "                end\n",
    "            end\n",
    "        end\n",
    "\n",
    "        ccs[u] = 2 * local_cc / (degree_u * (degree_u - 1))\n",
    "    end\n",
    "\n",
    "    return ccs\n",
    "end;"
   ]
  },
  {
   "cell_type": "code",
   "execution_count": 4,
   "id": "20febb01-3127-42f2-a2f9-f88994d5049a",
   "metadata": {
    "tags": []
   },
   "outputs": [],
   "source": [
    "# サンプルネットワークの生成\n",
    "sample_graph = create_sample_graph()\n",
    "sample_weighted_graph = create_sample_weighted_graph();"
   ]
  },
  {
   "cell_type": "code",
   "execution_count": 5,
   "id": "9a8102ed-351f-4ece-8608-9f0673fde04f",
   "metadata": {
    "tags": []
   },
   "outputs": [
    {
     "name": "stdout",
     "output_type": "stream",
     "text": [
      "N = nv(g) = 12\n",
      "max_increase = 0.06249999999999999\n",
      "max_increase = 0.11458333333333334\n",
      "max_increase = 0.0625\n",
      "max_increase = 0.11458333333333334\n",
      "max_increase = 0.06249999999999997\n",
      "max_increase = 0.11458333333333337\n",
      "max_increase = 0.0\n"
     ]
    },
    {
     "data": {
      "text/plain": [
       "12-element Vector{Int64}:\n",
       "  1\n",
       "  1\n",
       "  1\n",
       "  4\n",
       "  4\n",
       "  4\n",
       "  7\n",
       "  7\n",
       "  7\n",
       " 10\n",
       " 11\n",
       " 12"
      ]
     },
     "execution_count": 5,
     "metadata": {},
     "output_type": "execute_result"
    }
   ],
   "source": [
    "fastgreedy(sample_graph)"
   ]
  },
  {
   "cell_type": "code",
   "execution_count": 6,
   "id": "8cf71e7d-880b-4de7-905c-76cc30bb30af",
   "metadata": {
    "tags": []
   },
   "outputs": [
    {
     "name": "stdout",
     "output_type": "stream",
     "text": [
      "N = nv(g) = 12\n",
      "max_increase = 0.09895833271245166\n",
      "max_increase = 0.12500001034802855\n",
      "max_increase = 0.08268229177014694\n",
      "max_increase = 0.048177086851663053\n",
      "max_increase = 0.0512152713102598\n",
      "max_increase = 0.033854164234880024\n",
      "max_increase = 0.0\n"
     ]
    },
    {
     "data": {
      "text/plain": [
       "12-element Vector{Int64}:\n",
       "  1\n",
       "  1\n",
       "  1\n",
       "  4\n",
       "  4\n",
       "  4\n",
       "  4\n",
       "  8\n",
       "  8\n",
       " 10\n",
       " 11\n",
       " 12"
      ]
     },
     "execution_count": 6,
     "metadata": {},
     "output_type": "execute_result"
    }
   ],
   "source": [
    "fastgreedy(sample_weighted_graph)"
   ]
  },
  {
   "cell_type": "code",
   "execution_count": 7,
   "id": "8ac40234-8525-485d-b7ef-171c739100b4",
   "metadata": {
    "tags": []
   },
   "outputs": [
    {
     "data": {
      "text/plain": [
       "0.42857142857142855"
      ]
     },
     "execution_count": 7,
     "metadata": {},
     "output_type": "execute_result"
    }
   ],
   "source": [
    "global_clustering_coefficient(sample_graph)"
   ]
  },
  {
   "cell_type": "code",
   "execution_count": 8,
   "id": "133442a8-91dd-4a8c-8d3b-edd11c1ef588",
   "metadata": {
    "tags": []
   },
   "outputs": [
    {
     "data": {
      "text/plain": [
       "0.1527777777777778"
      ]
     },
     "execution_count": 8,
     "metadata": {},
     "output_type": "execute_result"
    }
   ],
   "source": [
    "mean(values(weighted_clustering_coefficient(sample_weighted_graph)))"
   ]
  },
  {
   "cell_type": "code",
   "execution_count": 9,
   "id": "71060576-a433-4b5b-b511-af8105376590",
   "metadata": {
    "tags": []
   },
   "outputs": [
    {
     "data": {
      "text/plain": [
       "Dict{Int64, Float64} with 4 entries:\n",
       "  4 => 0.0\n",
       "  2 => 0.2\n",
       "  3 => 0.0333333\n",
       "  1 => 0.3"
      ]
     },
     "execution_count": 9,
     "metadata": {},
     "output_type": "execute_result"
    }
   ],
   "source": [
    "g = SimpleWeightedGraph(4)\n",
    "\n",
    "add_edge!(g, 1, 2, 0.1)\n",
    "add_edge!(g, 1, 3, 0.2)\n",
    "add_edge!(g, 2, 3, 0.3)\n",
    "add_edge!(g, 3, 4, 0.4)\n",
    "\n",
    "weighted_clustering_coefficient(g)"
   ]
  },
  {
   "cell_type": "code",
   "execution_count": 10,
   "id": "59155f63-67b5-4d98-b6e9-d0ccebf844ea",
   "metadata": {
    "tags": []
   },
   "outputs": [
    {
     "data": {
      "text/plain": [
       "0.8333333333333334"
      ]
     },
     "execution_count": 10,
     "metadata": {},
     "output_type": "execute_result"
    }
   ],
   "source": [
    "2.5 / 3"
   ]
  },
  {
   "cell_type": "code",
   "execution_count": 40,
   "id": "3f2aec3e-569c-4234-aed9-d494b33246c4",
   "metadata": {},
   "outputs": [
    {
     "name": "stdout",
     "output_type": "stream",
     "text": [
      "1:\t0.0\n",
      "2:\t0.0\n",
      "3:\t0.0\n",
      "4:\t0.0\n",
      "5:\t0.0\n",
      "6:\t0.0\n",
      "7:\t0.0\n",
      "8:\t0.0\n",
      "9:\t0.0\n",
      "10:\t0.3501627358868705\n",
      "11:\t0.39737359114879534\n",
      "12:\t0.396616432926886\n"
     ]
    },
    {
     "data": {
      "text/plain": [
       "0.09534606333021266"
      ]
     },
     "execution_count": 40,
     "metadata": {},
     "output_type": "execute_result"
    }
   ],
   "source": [
    "function weighted_clustering_coefficient(g::SimpleWeightedGraph, i::Int)::Float64\n",
    "    N = nv(g)\n",
    "\n",
    "    max_w = maximum(g.weights)\n",
    "    max_w > 0 || return 0.0\n",
    "\n",
    "    numerator = 0.0\n",
    "    denominator = 0.0\n",
    "\n",
    "    for j in 1:N, h in 1:N\n",
    "        (j == i || h == i || j >= h) && continue\n",
    "\n",
    "        w_ij = g.weights[i, j]\n",
    "        w_ih = g.weights[i, h]\n",
    "        w_jh = g.weights[j, h]\n",
    "\n",
    "        if w_ij > 0 && w_ih > 0\n",
    "            harmonic_mean = (1 / w_ij + 1 / w_ih) / 2\n",
    "            denominator += 2 / (harmonic_mean + 1 / max_w)\n",
    "            if w_jh > 0\n",
    "                numerator += 2 / (harmonic_mean + 1 / w_jh)\n",
    "            end\n",
    "        end\n",
    "    end\n",
    "\n",
    "    return denominator != 0 ? numerator / denominator : 0.0\n",
    "end\n",
    "\n",
    "weighted_clustering_coefficient(g::SimpleWeightedGraph)::Float64 = mean([weighted_clustering_coefficient(g, i) for i in vertices(g)])\n",
    "\n",
    "g = SimpleWeightedGraph(12)\n",
    "\n",
    "add_edge!(g, 1, 4, 0.8)\n",
    "add_edge!(g, 1, 5, 0.7)\n",
    "add_edge!(g, 2, 5, 0.6)\n",
    "add_edge!(g, 2, 6, 0.5)\n",
    "add_edge!(g, 3, 6, 0.4)\n",
    "\n",
    "add_edge!(g, 4, 7, 0.7)\n",
    "add_edge!(g, 5, 8, 0.6)\n",
    "add_edge!(g, 6, 9, 0.5)\n",
    "\n",
    "add_edge!(g, 7, 10, 0.4)\n",
    "add_edge!(g, 8, 11, 0.3)\n",
    "add_edge!(g, 9, 12, 0.2)\n",
    "\n",
    "add_edge!(g, 10, 11, 0.6)\n",
    "add_edge!(g, 11, 12, 0.7)\n",
    "add_edge!(g, 12, 10, 0.8)\n",
    "\n",
    "for i in 1:12\n",
    "    println(\"$(i):\\t$(weighted_clustering_coefficient(g, i))\")\n",
    "end\n",
    "\n",
    "weighted_clustering_coefficient(g)"
   ]
  },
  {
   "cell_type": "code",
   "execution_count": 37,
   "id": "bdd3050c-3047-4b0a-a7a3-e585e0cb61ae",
   "metadata": {},
   "outputs": [
    {
     "data": {
      "text/plain": [
       "0.09534606333021266"
      ]
     },
     "execution_count": 37,
     "metadata": {},
     "output_type": "execute_result"
    }
   ],
   "source": []
  },
  {
   "cell_type": "code",
   "execution_count": null,
   "id": "741300c1-3582-4008-aa5a-84a145f09730",
   "metadata": {},
   "outputs": [],
   "source": []
  }
 ],
 "metadata": {
  "kernelspec": {
   "display_name": "Julia 1.10.0",
   "language": "julia",
   "name": "julia-1.10"
  },
  "language_info": {
   "file_extension": ".jl",
   "mimetype": "application/julia",
   "name": "julia",
   "version": "1.10.0"
  }
 },
 "nbformat": 4,
 "nbformat_minor": 5
}
