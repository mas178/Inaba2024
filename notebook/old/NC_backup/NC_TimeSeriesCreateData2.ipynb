{
 "cells": [
  {
   "cell_type": "markdown",
   "id": "7455c796-3589-4d08-8663-ed59321ea933",
   "metadata": {},
   "source": [
    "# Creat data for time series analysis 2"
   ]
  },
  {
   "cell_type": "code",
   "execution_count": 1,
   "id": "6491be8e-0c85-4929-9e95-ed0059903cfa",
   "metadata": {},
   "outputs": [],
   "source": [
    "using Dates\n",
    "using StatsBase: mean\n",
    "using JLD2: @load, @save\n",
    "using Graphs: neighbors\n",
    "using SimpleWeightedGraphs\n",
    "\n",
    "include(\"../src/Simulation.jl\")\n",
    "using Main.Simulation: Strategy, C, D\n",
    "\n",
    "include(\"../src/Network.jl\")\n",
    "using Main.Network: cooperators_wcc"
   ]
  },
  {
   "cell_type": "code",
   "execution_count": 3,
   "id": "31fb4669-6cd5-496f-8435-3e8f632d9b36",
   "metadata": {},
   "outputs": [],
   "source": [
    "# jld2_file_snippets = [\"stable\", \"population\", \"payoff\", \"strategy\", \"relationship\"]\n",
    "jld2_file_snippets = [\"stable\", \"population\", \"payoff\"]\n",
    "jld2_file_names = [\"result_$(snippet)_vec.jld2\" for snippet in jld2_file_snippets];"
   ]
  },
  {
   "cell_type": "code",
   "execution_count": 19,
   "id": "5d3ebcb3-507d-4a4c-9aed-03b9220b286a",
   "metadata": {
    "tags": []
   },
   "outputs": [
    {
     "name": "stdout",
     "output_type": "stream",
     "text": [
      "2024-1-29 18:27:33\n",
      "result_stable_vec.jld2\n",
      " 51.425901 seconds (1.74 M allocations: 112.056 GiB, 14.78% gc time, 0.01% compilation time)\n",
      "2024-01-29 18:28:25 trial: 1\n",
      "2024-01-29 18:28:27 trial: 2\n",
      "2024-01-29 18:28:29 trial: 3\n",
      "2024-01-29 18:29:04 trial: 4\n",
      "2024-01-29 18:31:53 trial: 5\n",
      "2024-01-29 18:32:23 trial: 6\n",
      "2024-01-29 18:32:25 trial: 7\n",
      "2024-01-29 18:32:26 trial: 8\n",
      "2024-01-29 18:32:28 trial: 9\n",
      "2024-01-29 18:35:29 trial: 10\n",
      "538.952934 seconds (5.43 M allocations: 29.033 GiB, 0.47% gc time, 0.30% compilation time)\n",
      "result_population_vec.jld2\n",
      " 54.832818 seconds (1.74 M allocations: 121.460 GiB, 16.92% gc time)\n",
      "2024-01-29 18:38:19 trial: 1\n",
      "2024-01-29 18:40:32 trial: 2\n",
      "2024-01-29 18:41:38 trial: 3\n",
      "2024-01-29 18:42:32 trial: 4\n",
      "2024-01-29 18:43:20 trial: 5\n",
      "2024-01-29 18:43:22 trial: 6\n",
      "2024-01-29 18:43:23 trial: 7\n",
      "2024-01-29 18:43:25 trial: 8\n",
      "2024-01-29 18:44:55 trial: 9\n",
      "2024-01-29 18:47:16 trial: 10\n",
      "539.352474 seconds (5.15 M allocations: 35.354 GiB, 2.98% gc time)\n",
      "result_payoff_vec.jld2\n",
      " 49.797295 seconds (1.74 M allocations: 112.056 GiB, 17.26% gc time)\n",
      "2024-01-29 18:48:08 trial: 1\n",
      "2024-01-29 18:48:09 trial: 2\n",
      "2024-01-29 18:48:21 trial: 3\n",
      "2024-01-29 18:50:28 trial: 4\n",
      "2024-01-29 18:52:38 trial: 5\n",
      "2024-01-29 18:55:25 trial: 6\n",
      "2024-01-29 18:55:26 trial: 7\n",
      "2024-01-29 18:55:27 trial: 8\n",
      "2024-01-29 18:55:53 trial: 9\n",
      "2024-01-29 18:58:52 trial: 10\n",
      "644.978153 seconds (5.16 M allocations: 37.215 GiB, 2.09% gc time)\n",
      "2024-1-29 18:58:53\n"
     ]
    }
   ],
   "source": [
    "# 2024-1-24 17:59:6 〜 18:27:33\n",
    "println(Dates.format(now(), \"Y-m-d H:M:S\"))\n",
    "\n",
    "timesteps = 1:6000\n",
    "num_trials = 10\n",
    "num_results = length(jld2_file_names)\n",
    "num_timesteps = length(timesteps)\n",
    "\n",
    "wcc_matrix = Array{Float64}(undef, num_results, num_trials, num_timesteps)\n",
    "\n",
    "for (result_index, jld2_file_name) in enumerate(jld2_file_names)\n",
    "    println(jld2_file_name)\n",
    "    @time @load jld2_file_name result_vec\n",
    "    @time for (trial, (strategy_vec_vec, weights_vec)) in enumerate(result_vec)\n",
    "        println(Dates.format(now(), \"Y-mm-dd HH:MM:SS trial: $(trial)\"))\n",
    "\n",
    "        for (timestep_index, timestep) in enumerate(timesteps)\n",
    "            wcc_matrix[result_index, trial, timestep_index] = round(cooperators_wcc(weights_vec[timestep], strategy_vec_vec[timestep]), digits = 4)\n",
    "        end\n",
    "    end\n",
    "end\n",
    "\n",
    "println(Dates.format(now(), \"Y-m-d H:M:S\"));"
   ]
  },
  {
   "cell_type": "code",
   "execution_count": 20,
   "id": "95978990-6f6a-42d0-a00a-d145b1f7e398",
   "metadata": {
    "tags": []
   },
   "outputs": [
    {
     "name": "stdout",
     "output_type": "stream",
     "text": [
      "  0.002976 seconds (103 allocations: 9.180 KiB)\n"
     ]
    }
   ],
   "source": [
    "@time @save \"wcc_matrix.jld2\" compress=true wcc_matrix;"
   ]
  }
 ],
 "metadata": {
  "kernelspec": {
   "display_name": "Julia 1.10.0",
   "language": "julia",
   "name": "julia-1.10"
  },
  "language_info": {
   "file_extension": ".jl",
   "mimetype": "application/julia",
   "name": "julia",
   "version": "1.10.0"
  }
 },
 "nbformat": 4,
 "nbformat_minor": 5
}
