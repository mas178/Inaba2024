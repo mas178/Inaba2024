{
 "cells": [
  {
   "cell_type": "markdown",
   "id": "7455c796-3589-4d08-8663-ed59321ea933",
   "metadata": {},
   "source": [
    "# 利得構造が変動する場合の分析"
   ]
  },
  {
   "cell_type": "code",
   "execution_count": 1,
   "id": "6491be8e-0c85-4929-9e95-ed0059903cfa",
   "metadata": {},
   "outputs": [],
   "source": [
    "using Plots: plot, plot!, twinx\n",
    "using DataFrames: DataFrame\n",
    "using StatsBase: mean, std\n",
    "using Random: MersenneTwister\n",
    "\n",
    "include(\"../src/Simulation.jl\")\n",
    "using .Simulation: Param, Model, run, POPULATION, PAYOFF, MUTATION\n",
    "include(\"../src/Network.jl\")\n",
    "using .Network: nv, degree, neighbors, rem_edge!, normalize_degree!, normalize_weight!"
   ]
  },
  {
   "cell_type": "code",
   "execution_count": 2,
   "id": "82168000-1c9b-46fd-b828-c821f85af2c2",
   "metadata": {},
   "outputs": [],
   "source": [
    "function plot_line(df::DataFrame, skip::Int = 10)::Plots.Plot\n",
    "    p = plot(df.generation, df.cooperation_rate, label = false, lc = :blue, ylim = (0, 1), yl = \"Frequency of Cooperator\")\n",
    "    plot!(twinx(), df.generation, df.N, label = false, lc = :red, ylim = (0, 1000), yl = \"N\")\n",
    "    return p\n",
    "end;"
   ]
  },
  {
   "cell_type": "code",
   "execution_count": 3,
   "id": "8e07615f-f37e-4c95-b7a3-31147829e6fe",
   "metadata": {
    "tags": []
   },
   "outputs": [],
   "source": [
    "# function debug_log(model::Model)::Nothing\n",
    "#     cooperation_rate = round(mean(model.strategy_vec .== C), digits = 2)\n",
    "#     N = size(model.weights, 1)\n",
    "#     T = round(model.payoff_table_vec[model.generation][(D, C)][1], digits = 2)\n",
    "#     μ_s_vec = round(model.μ_s_vec[model.generation], digits = 2)\n",
    "#     μ_c_vec = round(model.μ_c_vec[model.generation], digits = 2)\n",
    "#     println(\"generation = $(model.generation), cooperation_rate = $(cooperation_rate), Var = ($(N), $(T), $(μ_s_vec), $(μ_c_vec))\")\n",
    "# end\n",
    "\n",
    "# function run(param::Param; log_level::Int = 0, log_rate::Float64 = 0.5, log_skip::Int = 10)::DataFrame\n",
    "#     model = Model(param)\n",
    "\n",
    "#     start_gen = floor(Int, param.generations * (1 - log_rate)) + 1\n",
    "#     log_generations = filter(x -> x % log_skip == 0, start_gen:(param.generations))\n",
    "#     log_row_n = 1\n",
    "\n",
    "#     output_df = make_output_df(param, log_level, length(log_generations))\n",
    "\n",
    "#     for generation = 1:(param.generations)\n",
    "#         model.generation = generation\n",
    "#         model.payoff_vec .= 0.0\n",
    "\n",
    "#         interaction!(model)\n",
    "#         death!(model, param.rng)\n",
    "#         birth!(model, param.rng)\n",
    "        \n",
    "#         normalize_degree!(model.weights, param.initial_k)\n",
    "#         normalize_weight!(model.weights, param.initial_w * param.initial_k * param.initial_N)\n",
    "\n",
    "#         if generation ∈ log_generations\n",
    "#             log!(output_df, model, log_level, log_row_n)\n",
    "#             log_row_n += 1\n",
    "\n",
    "#             debug_log(model)\n",
    "#         end\n",
    "#     end\n",
    "\n",
    "#     return output_df\n",
    "# end;"
   ]
  },
  {
   "cell_type": "markdown",
   "id": "c0babed5-824c-4b85-9561-040eb75d64b3",
   "metadata": {},
   "source": [
    "- なぜ次数が増えるのか？\n",
    "- いかにして重みを正規化すべきか？(隣人との重みの平均が常にinitial_wになるようにする)\n",
    "- いかにして次数を正規化すべきか？(initial_k以上になった場合、関係値の低いノードを切断)"
   ]
  },
  {
   "cell_type": "code",
   "execution_count": 11,
   "id": "9357011e-c0db-48b5-802b-fc18d1b61f8c",
   "metadata": {
    "tags": []
   },
   "outputs": [
    {
     "name": "stdout",
     "output_type": "stream",
     "text": [
      " 11.642652 seconds (34.41 M allocations: 32.427 GiB, 8.57% gc time)\n"
     ]
    },
    {
     "data": {
      "text/html": [
       "<div><div style = \"float: left;\"><span>100×20 DataFrame</span></div><div style = \"float: right;\"><span style = \"font-style: italic;\">75 rows omitted</span></div><div style = \"clear: both;\"></div></div><div class = \"data-frame\" style = \"overflow-x: scroll;\"><table class = \"data-frame\" style = \"margin-bottom: 6px;\"><thead><tr class = \"header\"><th class = \"rowNumber\" style = \"font-weight: bold; text-align: right;\">Row</th><th style = \"text-align: left;\">initial_N</th><th style = \"text-align: left;\">initial_k</th><th style = \"text-align: left;\">initial_T</th><th style = \"text-align: left;\">S</th><th style = \"text-align: left;\">initial_w</th><th style = \"text-align: left;\">Δw</th><th style = \"text-align: left;\">interaction_freqency</th><th style = \"text-align: left;\">reproduction_rate</th><th style = \"text-align: left;\">δ</th><th style = \"text-align: left;\">initial_μ_s</th><th style = \"text-align: left;\">initial_μ_c</th><th style = \"text-align: left;\">β</th><th style = \"text-align: left;\">sigma</th><th style = \"text-align: left;\">generations</th><th style = \"text-align: left;\">variability_mode</th><th style = \"text-align: left;\">generation</th><th style = \"text-align: left;\">N</th><th style = \"text-align: left;\">T</th><th style = \"text-align: left;\">cooperation_rate</th><th style = \"text-align: left;\">payoff_μ</th></tr><tr class = \"subheader headerLastRow\"><th class = \"rowNumber\" style = \"font-weight: bold; text-align: right;\"></th><th title = \"Int64\" style = \"text-align: left;\">Int64</th><th title = \"Int64\" style = \"text-align: left;\">Int64</th><th title = \"Float64\" style = \"text-align: left;\">Float64</th><th title = \"Float64\" style = \"text-align: left;\">Float64</th><th title = \"Float16\" style = \"text-align: left;\">Float16</th><th title = \"Float64\" style = \"text-align: left;\">Float64</th><th title = \"Float64\" style = \"text-align: left;\">Float64</th><th title = \"Float64\" style = \"text-align: left;\">Float64</th><th title = \"Float64\" style = \"text-align: left;\">Float64</th><th title = \"Float64\" style = \"text-align: left;\">Float64</th><th title = \"Float64\" style = \"text-align: left;\">Float64</th><th title = \"Float64\" style = \"text-align: left;\">Float64</th><th title = \"Float64\" style = \"text-align: left;\">Float64</th><th title = \"Int64\" style = \"text-align: left;\">Int64</th><th title = \"String\" style = \"text-align: left;\">String</th><th title = \"Int16\" style = \"text-align: left;\">Int16</th><th title = \"Int16\" style = \"text-align: left;\">Int16</th><th title = \"Float16\" style = \"text-align: left;\">Float16</th><th title = \"Float16\" style = \"text-align: left;\">Float16</th><th title = \"Float16\" style = \"text-align: left;\">Float16</th></tr></thead><tbody><tr><td class = \"rowNumber\" style = \"font-weight: bold; text-align: right;\">1</td><td style = \"text-align: right;\">1000</td><td style = \"text-align: right;\">100</td><td style = \"text-align: right;\">1.7</td><td style = \"text-align: right;\">-0.7</td><td style = \"text-align: right;\">0.5</td><td style = \"text-align: right;\">0.1</td><td style = \"text-align: right;\">1.0</td><td style = \"text-align: right;\">0.1</td><td style = \"text-align: right;\">1.0</td><td style = \"text-align: right;\">0.01</td><td style = \"text-align: right;\">0.01</td><td style = \"text-align: right;\">0.3</td><td style = \"text-align: right;\">0.01</td><td style = \"text-align: right;\">1000</td><td style = \"text-align: left;\">MUTATION</td><td style = \"text-align: right;\">10</td><td style = \"text-align: right;\">1000</td><td style = \"text-align: right;\">1.7</td><td style = \"text-align: right;\">0.006</td><td style = \"text-align: right;\">0.0111</td></tr><tr><td class = \"rowNumber\" style = \"font-weight: bold; text-align: right;\">2</td><td style = \"text-align: right;\">1000</td><td style = \"text-align: right;\">100</td><td style = \"text-align: right;\">1.7</td><td style = \"text-align: right;\">-0.7</td><td style = \"text-align: right;\">0.5</td><td style = \"text-align: right;\">0.1</td><td style = \"text-align: right;\">1.0</td><td style = \"text-align: right;\">0.1</td><td style = \"text-align: right;\">1.0</td><td style = \"text-align: right;\">0.01</td><td style = \"text-align: right;\">0.01</td><td style = \"text-align: right;\">0.3</td><td style = \"text-align: right;\">0.01</td><td style = \"text-align: right;\">1000</td><td style = \"text-align: left;\">MUTATION</td><td style = \"text-align: right;\">20</td><td style = \"text-align: right;\">1000</td><td style = \"text-align: right;\">1.7</td><td style = \"text-align: right;\">0.014</td><td style = \"text-align: right;\">0.0267</td></tr><tr><td class = \"rowNumber\" style = \"font-weight: bold; text-align: right;\">3</td><td style = \"text-align: right;\">1000</td><td style = \"text-align: right;\">100</td><td style = \"text-align: right;\">1.7</td><td style = \"text-align: right;\">-0.7</td><td style = \"text-align: right;\">0.5</td><td style = \"text-align: right;\">0.1</td><td style = \"text-align: right;\">1.0</td><td style = \"text-align: right;\">0.1</td><td style = \"text-align: right;\">1.0</td><td style = \"text-align: right;\">0.01</td><td style = \"text-align: right;\">0.01</td><td style = \"text-align: right;\">0.3</td><td style = \"text-align: right;\">0.01</td><td style = \"text-align: right;\">1000</td><td style = \"text-align: left;\">MUTATION</td><td style = \"text-align: right;\">30</td><td style = \"text-align: right;\">1000</td><td style = \"text-align: right;\">1.7</td><td style = \"text-align: right;\">0.009</td><td style = \"text-align: right;\">0.019</td></tr><tr><td class = \"rowNumber\" style = \"font-weight: bold; text-align: right;\">4</td><td style = \"text-align: right;\">1000</td><td style = \"text-align: right;\">100</td><td style = \"text-align: right;\">1.7</td><td style = \"text-align: right;\">-0.7</td><td style = \"text-align: right;\">0.5</td><td style = \"text-align: right;\">0.1</td><td style = \"text-align: right;\">1.0</td><td style = \"text-align: right;\">0.1</td><td style = \"text-align: right;\">1.0</td><td style = \"text-align: right;\">0.01</td><td style = \"text-align: right;\">0.01</td><td style = \"text-align: right;\">0.3</td><td style = \"text-align: right;\">0.01</td><td style = \"text-align: right;\">1000</td><td style = \"text-align: left;\">MUTATION</td><td style = \"text-align: right;\">40</td><td style = \"text-align: right;\">1000</td><td style = \"text-align: right;\">1.7</td><td style = \"text-align: right;\">0.013</td><td style = \"text-align: right;\">0.0237</td></tr><tr><td class = \"rowNumber\" style = \"font-weight: bold; text-align: right;\">5</td><td style = \"text-align: right;\">1000</td><td style = \"text-align: right;\">100</td><td style = \"text-align: right;\">1.7</td><td style = \"text-align: right;\">-0.7</td><td style = \"text-align: right;\">0.5</td><td style = \"text-align: right;\">0.1</td><td style = \"text-align: right;\">1.0</td><td style = \"text-align: right;\">0.1</td><td style = \"text-align: right;\">1.0</td><td style = \"text-align: right;\">0.01</td><td style = \"text-align: right;\">0.01</td><td style = \"text-align: right;\">0.3</td><td style = \"text-align: right;\">0.01</td><td style = \"text-align: right;\">1000</td><td style = \"text-align: left;\">MUTATION</td><td style = \"text-align: right;\">50</td><td style = \"text-align: right;\">1000</td><td style = \"text-align: right;\">1.7</td><td style = \"text-align: right;\">0.009</td><td style = \"text-align: right;\">0.0239</td></tr><tr><td class = \"rowNumber\" style = \"font-weight: bold; text-align: right;\">6</td><td style = \"text-align: right;\">1000</td><td style = \"text-align: right;\">100</td><td style = \"text-align: right;\">1.7</td><td style = \"text-align: right;\">-0.7</td><td style = \"text-align: right;\">0.5</td><td style = \"text-align: right;\">0.1</td><td style = \"text-align: right;\">1.0</td><td style = \"text-align: right;\">0.1</td><td style = \"text-align: right;\">1.0</td><td style = \"text-align: right;\">0.01</td><td style = \"text-align: right;\">0.01</td><td style = \"text-align: right;\">0.3</td><td style = \"text-align: right;\">0.01</td><td style = \"text-align: right;\">1000</td><td style = \"text-align: left;\">MUTATION</td><td style = \"text-align: right;\">60</td><td style = \"text-align: right;\">1000</td><td style = \"text-align: right;\">1.7</td><td style = \"text-align: right;\">0.009</td><td style = \"text-align: right;\">0.0187</td></tr><tr><td class = \"rowNumber\" style = \"font-weight: bold; text-align: right;\">7</td><td style = \"text-align: right;\">1000</td><td style = \"text-align: right;\">100</td><td style = \"text-align: right;\">1.7</td><td style = \"text-align: right;\">-0.7</td><td style = \"text-align: right;\">0.5</td><td style = \"text-align: right;\">0.1</td><td style = \"text-align: right;\">1.0</td><td style = \"text-align: right;\">0.1</td><td style = \"text-align: right;\">1.0</td><td style = \"text-align: right;\">0.01</td><td style = \"text-align: right;\">0.01</td><td style = \"text-align: right;\">0.3</td><td style = \"text-align: right;\">0.01</td><td style = \"text-align: right;\">1000</td><td style = \"text-align: left;\">MUTATION</td><td style = \"text-align: right;\">70</td><td style = \"text-align: right;\">1000</td><td style = \"text-align: right;\">1.7</td><td style = \"text-align: right;\">0.011</td><td style = \"text-align: right;\">0.0274</td></tr><tr><td class = \"rowNumber\" style = \"font-weight: bold; text-align: right;\">8</td><td style = \"text-align: right;\">1000</td><td style = \"text-align: right;\">100</td><td style = \"text-align: right;\">1.7</td><td style = \"text-align: right;\">-0.7</td><td style = \"text-align: right;\">0.5</td><td style = \"text-align: right;\">0.1</td><td style = \"text-align: right;\">1.0</td><td style = \"text-align: right;\">0.1</td><td style = \"text-align: right;\">1.0</td><td style = \"text-align: right;\">0.01</td><td style = \"text-align: right;\">0.01</td><td style = \"text-align: right;\">0.3</td><td style = \"text-align: right;\">0.01</td><td style = \"text-align: right;\">1000</td><td style = \"text-align: left;\">MUTATION</td><td style = \"text-align: right;\">80</td><td style = \"text-align: right;\">1000</td><td style = \"text-align: right;\">1.7</td><td style = \"text-align: right;\">0.01</td><td style = \"text-align: right;\">0.0246</td></tr><tr><td class = \"rowNumber\" style = \"font-weight: bold; text-align: right;\">9</td><td style = \"text-align: right;\">1000</td><td style = \"text-align: right;\">100</td><td style = \"text-align: right;\">1.7</td><td style = \"text-align: right;\">-0.7</td><td style = \"text-align: right;\">0.5</td><td style = \"text-align: right;\">0.1</td><td style = \"text-align: right;\">1.0</td><td style = \"text-align: right;\">0.1</td><td style = \"text-align: right;\">1.0</td><td style = \"text-align: right;\">0.01</td><td style = \"text-align: right;\">0.01</td><td style = \"text-align: right;\">0.3</td><td style = \"text-align: right;\">0.01</td><td style = \"text-align: right;\">1000</td><td style = \"text-align: left;\">MUTATION</td><td style = \"text-align: right;\">90</td><td style = \"text-align: right;\">1000</td><td style = \"text-align: right;\">1.7</td><td style = \"text-align: right;\">0.011</td><td style = \"text-align: right;\">0.0284</td></tr><tr><td class = \"rowNumber\" style = \"font-weight: bold; text-align: right;\">10</td><td style = \"text-align: right;\">1000</td><td style = \"text-align: right;\">100</td><td style = \"text-align: right;\">1.7</td><td style = \"text-align: right;\">-0.7</td><td style = \"text-align: right;\">0.5</td><td style = \"text-align: right;\">0.1</td><td style = \"text-align: right;\">1.0</td><td style = \"text-align: right;\">0.1</td><td style = \"text-align: right;\">1.0</td><td style = \"text-align: right;\">0.01</td><td style = \"text-align: right;\">0.01</td><td style = \"text-align: right;\">0.3</td><td style = \"text-align: right;\">0.01</td><td style = \"text-align: right;\">1000</td><td style = \"text-align: left;\">MUTATION</td><td style = \"text-align: right;\">100</td><td style = \"text-align: right;\">1000</td><td style = \"text-align: right;\">1.7</td><td style = \"text-align: right;\">0.005</td><td style = \"text-align: right;\">0.0178</td></tr><tr><td class = \"rowNumber\" style = \"font-weight: bold; text-align: right;\">11</td><td style = \"text-align: right;\">1000</td><td style = \"text-align: right;\">100</td><td style = \"text-align: right;\">1.7</td><td style = \"text-align: right;\">-0.7</td><td style = \"text-align: right;\">0.5</td><td style = \"text-align: right;\">0.1</td><td style = \"text-align: right;\">1.0</td><td style = \"text-align: right;\">0.1</td><td style = \"text-align: right;\">1.0</td><td style = \"text-align: right;\">0.01</td><td style = \"text-align: right;\">0.01</td><td style = \"text-align: right;\">0.3</td><td style = \"text-align: right;\">0.01</td><td style = \"text-align: right;\">1000</td><td style = \"text-align: left;\">MUTATION</td><td style = \"text-align: right;\">110</td><td style = \"text-align: right;\">1000</td><td style = \"text-align: right;\">1.7</td><td style = \"text-align: right;\">0.009</td><td style = \"text-align: right;\">0.023</td></tr><tr><td class = \"rowNumber\" style = \"font-weight: bold; text-align: right;\">12</td><td style = \"text-align: right;\">1000</td><td style = \"text-align: right;\">100</td><td style = \"text-align: right;\">1.7</td><td style = \"text-align: right;\">-0.7</td><td style = \"text-align: right;\">0.5</td><td style = \"text-align: right;\">0.1</td><td style = \"text-align: right;\">1.0</td><td style = \"text-align: right;\">0.1</td><td style = \"text-align: right;\">1.0</td><td style = \"text-align: right;\">0.01</td><td style = \"text-align: right;\">0.01</td><td style = \"text-align: right;\">0.3</td><td style = \"text-align: right;\">0.01</td><td style = \"text-align: right;\">1000</td><td style = \"text-align: left;\">MUTATION</td><td style = \"text-align: right;\">120</td><td style = \"text-align: right;\">1000</td><td style = \"text-align: right;\">1.7</td><td style = \"text-align: right;\">0.007</td><td style = \"text-align: right;\">0.016</td></tr><tr><td class = \"rowNumber\" style = \"font-weight: bold; text-align: right;\">13</td><td style = \"text-align: right;\">1000</td><td style = \"text-align: right;\">100</td><td style = \"text-align: right;\">1.7</td><td style = \"text-align: right;\">-0.7</td><td style = \"text-align: right;\">0.5</td><td style = \"text-align: right;\">0.1</td><td style = \"text-align: right;\">1.0</td><td style = \"text-align: right;\">0.1</td><td style = \"text-align: right;\">1.0</td><td style = \"text-align: right;\">0.01</td><td style = \"text-align: right;\">0.01</td><td style = \"text-align: right;\">0.3</td><td style = \"text-align: right;\">0.01</td><td style = \"text-align: right;\">1000</td><td style = \"text-align: left;\">MUTATION</td><td style = \"text-align: right;\">130</td><td style = \"text-align: right;\">1000</td><td style = \"text-align: right;\">1.7</td><td style = \"text-align: right;\">0.003</td><td style = \"text-align: right;\">0.007</td></tr><tr><td style = \"text-align: right;\">&vellip;</td><td style = \"text-align: right;\">&vellip;</td><td style = \"text-align: right;\">&vellip;</td><td style = \"text-align: right;\">&vellip;</td><td style = \"text-align: right;\">&vellip;</td><td style = \"text-align: right;\">&vellip;</td><td style = \"text-align: right;\">&vellip;</td><td style = \"text-align: right;\">&vellip;</td><td style = \"text-align: right;\">&vellip;</td><td style = \"text-align: right;\">&vellip;</td><td style = \"text-align: right;\">&vellip;</td><td style = \"text-align: right;\">&vellip;</td><td style = \"text-align: right;\">&vellip;</td><td style = \"text-align: right;\">&vellip;</td><td style = \"text-align: right;\">&vellip;</td><td style = \"text-align: right;\">&vellip;</td><td style = \"text-align: right;\">&vellip;</td><td style = \"text-align: right;\">&vellip;</td><td style = \"text-align: right;\">&vellip;</td><td style = \"text-align: right;\">&vellip;</td><td style = \"text-align: right;\">&vellip;</td></tr><tr><td class = \"rowNumber\" style = \"font-weight: bold; text-align: right;\">89</td><td style = \"text-align: right;\">1000</td><td style = \"text-align: right;\">100</td><td style = \"text-align: right;\">1.7</td><td style = \"text-align: right;\">-0.7</td><td style = \"text-align: right;\">0.5</td><td style = \"text-align: right;\">0.1</td><td style = \"text-align: right;\">1.0</td><td style = \"text-align: right;\">0.1</td><td style = \"text-align: right;\">1.0</td><td style = \"text-align: right;\">0.01</td><td style = \"text-align: right;\">0.01</td><td style = \"text-align: right;\">0.3</td><td style = \"text-align: right;\">0.01</td><td style = \"text-align: right;\">1000</td><td style = \"text-align: left;\">MUTATION</td><td style = \"text-align: right;\">890</td><td style = \"text-align: right;\">1000</td><td style = \"text-align: right;\">1.7</td><td style = \"text-align: right;\">0.695</td><td style = \"text-align: right;\">1.362</td></tr><tr><td class = \"rowNumber\" style = \"font-weight: bold; text-align: right;\">90</td><td style = \"text-align: right;\">1000</td><td style = \"text-align: right;\">100</td><td style = \"text-align: right;\">1.7</td><td style = \"text-align: right;\">-0.7</td><td style = \"text-align: right;\">0.5</td><td style = \"text-align: right;\">0.1</td><td style = \"text-align: right;\">1.0</td><td style = \"text-align: right;\">0.1</td><td style = \"text-align: right;\">1.0</td><td style = \"text-align: right;\">0.01</td><td style = \"text-align: right;\">0.01</td><td style = \"text-align: right;\">0.3</td><td style = \"text-align: right;\">0.01</td><td style = \"text-align: right;\">1000</td><td style = \"text-align: left;\">MUTATION</td><td style = \"text-align: right;\">900</td><td style = \"text-align: right;\">1000</td><td style = \"text-align: right;\">1.7</td><td style = \"text-align: right;\">0.685</td><td style = \"text-align: right;\">1.383</td></tr><tr><td class = \"rowNumber\" style = \"font-weight: bold; text-align: right;\">91</td><td style = \"text-align: right;\">1000</td><td style = \"text-align: right;\">100</td><td style = \"text-align: right;\">1.7</td><td style = \"text-align: right;\">-0.7</td><td style = \"text-align: right;\">0.5</td><td style = \"text-align: right;\">0.1</td><td style = \"text-align: right;\">1.0</td><td style = \"text-align: right;\">0.1</td><td style = \"text-align: right;\">1.0</td><td style = \"text-align: right;\">0.01</td><td style = \"text-align: right;\">0.01</td><td style = \"text-align: right;\">0.3</td><td style = \"text-align: right;\">0.01</td><td style = \"text-align: right;\">1000</td><td style = \"text-align: left;\">MUTATION</td><td style = \"text-align: right;\">910</td><td style = \"text-align: right;\">1000</td><td style = \"text-align: right;\">1.7</td><td style = \"text-align: right;\">0.748</td><td style = \"text-align: right;\">1.45</td></tr><tr><td class = \"rowNumber\" style = \"font-weight: bold; text-align: right;\">92</td><td style = \"text-align: right;\">1000</td><td style = \"text-align: right;\">100</td><td style = \"text-align: right;\">1.7</td><td style = \"text-align: right;\">-0.7</td><td style = \"text-align: right;\">0.5</td><td style = \"text-align: right;\">0.1</td><td style = \"text-align: right;\">1.0</td><td style = \"text-align: right;\">0.1</td><td style = \"text-align: right;\">1.0</td><td style = \"text-align: right;\">0.01</td><td style = \"text-align: right;\">0.01</td><td style = \"text-align: right;\">0.3</td><td style = \"text-align: right;\">0.01</td><td style = \"text-align: right;\">1000</td><td style = \"text-align: left;\">MUTATION</td><td style = \"text-align: right;\">920</td><td style = \"text-align: right;\">1000</td><td style = \"text-align: right;\">1.7</td><td style = \"text-align: right;\">0.749</td><td style = \"text-align: right;\">1.502</td></tr><tr><td class = \"rowNumber\" style = \"font-weight: bold; text-align: right;\">93</td><td style = \"text-align: right;\">1000</td><td style = \"text-align: right;\">100</td><td style = \"text-align: right;\">1.7</td><td style = \"text-align: right;\">-0.7</td><td style = \"text-align: right;\">0.5</td><td style = \"text-align: right;\">0.1</td><td style = \"text-align: right;\">1.0</td><td style = \"text-align: right;\">0.1</td><td style = \"text-align: right;\">1.0</td><td style = \"text-align: right;\">0.01</td><td style = \"text-align: right;\">0.01</td><td style = \"text-align: right;\">0.3</td><td style = \"text-align: right;\">0.01</td><td style = \"text-align: right;\">1000</td><td style = \"text-align: left;\">MUTATION</td><td style = \"text-align: right;\">930</td><td style = \"text-align: right;\">1000</td><td style = \"text-align: right;\">1.7</td><td style = \"text-align: right;\">0.705</td><td style = \"text-align: right;\">1.404</td></tr><tr><td class = \"rowNumber\" style = \"font-weight: bold; text-align: right;\">94</td><td style = \"text-align: right;\">1000</td><td style = \"text-align: right;\">100</td><td style = \"text-align: right;\">1.7</td><td style = \"text-align: right;\">-0.7</td><td style = \"text-align: right;\">0.5</td><td style = \"text-align: right;\">0.1</td><td style = \"text-align: right;\">1.0</td><td style = \"text-align: right;\">0.1</td><td style = \"text-align: right;\">1.0</td><td style = \"text-align: right;\">0.01</td><td style = \"text-align: right;\">0.01</td><td style = \"text-align: right;\">0.3</td><td style = \"text-align: right;\">0.01</td><td style = \"text-align: right;\">1000</td><td style = \"text-align: left;\">MUTATION</td><td style = \"text-align: right;\">940</td><td style = \"text-align: right;\">1000</td><td style = \"text-align: right;\">1.7</td><td style = \"text-align: right;\">0.648</td><td style = \"text-align: right;\">1.324</td></tr><tr><td class = \"rowNumber\" style = \"font-weight: bold; text-align: right;\">95</td><td style = \"text-align: right;\">1000</td><td style = \"text-align: right;\">100</td><td style = \"text-align: right;\">1.7</td><td style = \"text-align: right;\">-0.7</td><td style = \"text-align: right;\">0.5</td><td style = \"text-align: right;\">0.1</td><td style = \"text-align: right;\">1.0</td><td style = \"text-align: right;\">0.1</td><td style = \"text-align: right;\">1.0</td><td style = \"text-align: right;\">0.01</td><td style = \"text-align: right;\">0.01</td><td style = \"text-align: right;\">0.3</td><td style = \"text-align: right;\">0.01</td><td style = \"text-align: right;\">1000</td><td style = \"text-align: left;\">MUTATION</td><td style = \"text-align: right;\">950</td><td style = \"text-align: right;\">1000</td><td style = \"text-align: right;\">1.7</td><td style = \"text-align: right;\">0.655</td><td style = \"text-align: right;\">1.328</td></tr><tr><td class = \"rowNumber\" style = \"font-weight: bold; text-align: right;\">96</td><td style = \"text-align: right;\">1000</td><td style = \"text-align: right;\">100</td><td style = \"text-align: right;\">1.7</td><td style = \"text-align: right;\">-0.7</td><td style = \"text-align: right;\">0.5</td><td style = \"text-align: right;\">0.1</td><td style = \"text-align: right;\">1.0</td><td style = \"text-align: right;\">0.1</td><td style = \"text-align: right;\">1.0</td><td style = \"text-align: right;\">0.01</td><td style = \"text-align: right;\">0.01</td><td style = \"text-align: right;\">0.3</td><td style = \"text-align: right;\">0.01</td><td style = \"text-align: right;\">1000</td><td style = \"text-align: left;\">MUTATION</td><td style = \"text-align: right;\">960</td><td style = \"text-align: right;\">1000</td><td style = \"text-align: right;\">1.7</td><td style = \"text-align: right;\">0.624</td><td style = \"text-align: right;\">1.262</td></tr><tr><td class = \"rowNumber\" style = \"font-weight: bold; text-align: right;\">97</td><td style = \"text-align: right;\">1000</td><td style = \"text-align: right;\">100</td><td style = \"text-align: right;\">1.7</td><td style = \"text-align: right;\">-0.7</td><td style = \"text-align: right;\">0.5</td><td style = \"text-align: right;\">0.1</td><td style = \"text-align: right;\">1.0</td><td style = \"text-align: right;\">0.1</td><td style = \"text-align: right;\">1.0</td><td style = \"text-align: right;\">0.01</td><td style = \"text-align: right;\">0.01</td><td style = \"text-align: right;\">0.3</td><td style = \"text-align: right;\">0.01</td><td style = \"text-align: right;\">1000</td><td style = \"text-align: left;\">MUTATION</td><td style = \"text-align: right;\">970</td><td style = \"text-align: right;\">1000</td><td style = \"text-align: right;\">1.7</td><td style = \"text-align: right;\">0.645</td><td style = \"text-align: right;\">1.293</td></tr><tr><td class = \"rowNumber\" style = \"font-weight: bold; text-align: right;\">98</td><td style = \"text-align: right;\">1000</td><td style = \"text-align: right;\">100</td><td style = \"text-align: right;\">1.7</td><td style = \"text-align: right;\">-0.7</td><td style = \"text-align: right;\">0.5</td><td style = \"text-align: right;\">0.1</td><td style = \"text-align: right;\">1.0</td><td style = \"text-align: right;\">0.1</td><td style = \"text-align: right;\">1.0</td><td style = \"text-align: right;\">0.01</td><td style = \"text-align: right;\">0.01</td><td style = \"text-align: right;\">0.3</td><td style = \"text-align: right;\">0.01</td><td style = \"text-align: right;\">1000</td><td style = \"text-align: left;\">MUTATION</td><td style = \"text-align: right;\">980</td><td style = \"text-align: right;\">1000</td><td style = \"text-align: right;\">1.7</td><td style = \"text-align: right;\">0.653</td><td style = \"text-align: right;\">1.315</td></tr><tr><td class = \"rowNumber\" style = \"font-weight: bold; text-align: right;\">99</td><td style = \"text-align: right;\">1000</td><td style = \"text-align: right;\">100</td><td style = \"text-align: right;\">1.7</td><td style = \"text-align: right;\">-0.7</td><td style = \"text-align: right;\">0.5</td><td style = \"text-align: right;\">0.1</td><td style = \"text-align: right;\">1.0</td><td style = \"text-align: right;\">0.1</td><td style = \"text-align: right;\">1.0</td><td style = \"text-align: right;\">0.01</td><td style = \"text-align: right;\">0.01</td><td style = \"text-align: right;\">0.3</td><td style = \"text-align: right;\">0.01</td><td style = \"text-align: right;\">1000</td><td style = \"text-align: left;\">MUTATION</td><td style = \"text-align: right;\">990</td><td style = \"text-align: right;\">1000</td><td style = \"text-align: right;\">1.7</td><td style = \"text-align: right;\">0.679</td><td style = \"text-align: right;\">1.381</td></tr><tr><td class = \"rowNumber\" style = \"font-weight: bold; text-align: right;\">100</td><td style = \"text-align: right;\">1000</td><td style = \"text-align: right;\">100</td><td style = \"text-align: right;\">1.7</td><td style = \"text-align: right;\">-0.7</td><td style = \"text-align: right;\">0.5</td><td style = \"text-align: right;\">0.1</td><td style = \"text-align: right;\">1.0</td><td style = \"text-align: right;\">0.1</td><td style = \"text-align: right;\">1.0</td><td style = \"text-align: right;\">0.01</td><td style = \"text-align: right;\">0.01</td><td style = \"text-align: right;\">0.3</td><td style = \"text-align: right;\">0.01</td><td style = \"text-align: right;\">1000</td><td style = \"text-align: left;\">MUTATION</td><td style = \"text-align: right;\">1000</td><td style = \"text-align: right;\">1000</td><td style = \"text-align: right;\">1.7</td><td style = \"text-align: right;\">0.732</td><td style = \"text-align: right;\">1.468</td></tr></tbody></table></div>"
      ],
      "text/latex": [
       "\\begin{tabular}{r|cccccccc}\n",
       "\t& initial\\_N & initial\\_k & initial\\_T & S & initial\\_w & Δw & interaction\\_freqency & \\\\\n",
       "\t\\hline\n",
       "\t& Int64 & Int64 & Float64 & Float64 & Float16 & Float64 & Float64 & \\\\\n",
       "\t\\hline\n",
       "\t1 & 1000 & 100 & 1.7 & -0.7 & 0.5 & 0.1 & 1.0 & $\\dots$ \\\\\n",
       "\t2 & 1000 & 100 & 1.7 & -0.7 & 0.5 & 0.1 & 1.0 & $\\dots$ \\\\\n",
       "\t3 & 1000 & 100 & 1.7 & -0.7 & 0.5 & 0.1 & 1.0 & $\\dots$ \\\\\n",
       "\t4 & 1000 & 100 & 1.7 & -0.7 & 0.5 & 0.1 & 1.0 & $\\dots$ \\\\\n",
       "\t5 & 1000 & 100 & 1.7 & -0.7 & 0.5 & 0.1 & 1.0 & $\\dots$ \\\\\n",
       "\t6 & 1000 & 100 & 1.7 & -0.7 & 0.5 & 0.1 & 1.0 & $\\dots$ \\\\\n",
       "\t7 & 1000 & 100 & 1.7 & -0.7 & 0.5 & 0.1 & 1.0 & $\\dots$ \\\\\n",
       "\t8 & 1000 & 100 & 1.7 & -0.7 & 0.5 & 0.1 & 1.0 & $\\dots$ \\\\\n",
       "\t9 & 1000 & 100 & 1.7 & -0.7 & 0.5 & 0.1 & 1.0 & $\\dots$ \\\\\n",
       "\t10 & 1000 & 100 & 1.7 & -0.7 & 0.5 & 0.1 & 1.0 & $\\dots$ \\\\\n",
       "\t11 & 1000 & 100 & 1.7 & -0.7 & 0.5 & 0.1 & 1.0 & $\\dots$ \\\\\n",
       "\t12 & 1000 & 100 & 1.7 & -0.7 & 0.5 & 0.1 & 1.0 & $\\dots$ \\\\\n",
       "\t13 & 1000 & 100 & 1.7 & -0.7 & 0.5 & 0.1 & 1.0 & $\\dots$ \\\\\n",
       "\t14 & 1000 & 100 & 1.7 & -0.7 & 0.5 & 0.1 & 1.0 & $\\dots$ \\\\\n",
       "\t15 & 1000 & 100 & 1.7 & -0.7 & 0.5 & 0.1 & 1.0 & $\\dots$ \\\\\n",
       "\t16 & 1000 & 100 & 1.7 & -0.7 & 0.5 & 0.1 & 1.0 & $\\dots$ \\\\\n",
       "\t17 & 1000 & 100 & 1.7 & -0.7 & 0.5 & 0.1 & 1.0 & $\\dots$ \\\\\n",
       "\t18 & 1000 & 100 & 1.7 & -0.7 & 0.5 & 0.1 & 1.0 & $\\dots$ \\\\\n",
       "\t19 & 1000 & 100 & 1.7 & -0.7 & 0.5 & 0.1 & 1.0 & $\\dots$ \\\\\n",
       "\t20 & 1000 & 100 & 1.7 & -0.7 & 0.5 & 0.1 & 1.0 & $\\dots$ \\\\\n",
       "\t21 & 1000 & 100 & 1.7 & -0.7 & 0.5 & 0.1 & 1.0 & $\\dots$ \\\\\n",
       "\t22 & 1000 & 100 & 1.7 & -0.7 & 0.5 & 0.1 & 1.0 & $\\dots$ \\\\\n",
       "\t23 & 1000 & 100 & 1.7 & -0.7 & 0.5 & 0.1 & 1.0 & $\\dots$ \\\\\n",
       "\t24 & 1000 & 100 & 1.7 & -0.7 & 0.5 & 0.1 & 1.0 & $\\dots$ \\\\\n",
       "\t25 & 1000 & 100 & 1.7 & -0.7 & 0.5 & 0.1 & 1.0 & $\\dots$ \\\\\n",
       "\t26 & 1000 & 100 & 1.7 & -0.7 & 0.5 & 0.1 & 1.0 & $\\dots$ \\\\\n",
       "\t27 & 1000 & 100 & 1.7 & -0.7 & 0.5 & 0.1 & 1.0 & $\\dots$ \\\\\n",
       "\t28 & 1000 & 100 & 1.7 & -0.7 & 0.5 & 0.1 & 1.0 & $\\dots$ \\\\\n",
       "\t29 & 1000 & 100 & 1.7 & -0.7 & 0.5 & 0.1 & 1.0 & $\\dots$ \\\\\n",
       "\t30 & 1000 & 100 & 1.7 & -0.7 & 0.5 & 0.1 & 1.0 & $\\dots$ \\\\\n",
       "\t$\\dots$ & $\\dots$ & $\\dots$ & $\\dots$ & $\\dots$ & $\\dots$ & $\\dots$ & $\\dots$ &  \\\\\n",
       "\\end{tabular}\n"
      ],
      "text/plain": [
       "\u001b[1m100×20 DataFrame\u001b[0m\n",
       "\u001b[1m Row \u001b[0m│\u001b[1m initial_N \u001b[0m\u001b[1m initial_k \u001b[0m\u001b[1m initial_T \u001b[0m\u001b[1m S       \u001b[0m\u001b[1m initial_w \u001b[0m\u001b[1m Δw      \u001b[0m\u001b[1m interacti\u001b[0m ⋯\n",
       "     │\u001b[90m Int64     \u001b[0m\u001b[90m Int64     \u001b[0m\u001b[90m Float64   \u001b[0m\u001b[90m Float64 \u001b[0m\u001b[90m Float16   \u001b[0m\u001b[90m Float64 \u001b[0m\u001b[90m Float64  \u001b[0m ⋯\n",
       "─────┼──────────────────────────────────────────────────────────────────────────\n",
       "   1 │      1000        100        1.7     -0.7        0.5      0.1            ⋯\n",
       "   2 │      1000        100        1.7     -0.7        0.5      0.1\n",
       "   3 │      1000        100        1.7     -0.7        0.5      0.1\n",
       "   4 │      1000        100        1.7     -0.7        0.5      0.1\n",
       "   5 │      1000        100        1.7     -0.7        0.5      0.1            ⋯\n",
       "   6 │      1000        100        1.7     -0.7        0.5      0.1\n",
       "   7 │      1000        100        1.7     -0.7        0.5      0.1\n",
       "   8 │      1000        100        1.7     -0.7        0.5      0.1\n",
       "   9 │      1000        100        1.7     -0.7        0.5      0.1            ⋯\n",
       "  10 │      1000        100        1.7     -0.7        0.5      0.1\n",
       "  11 │      1000        100        1.7     -0.7        0.5      0.1\n",
       "  ⋮  │     ⋮          ⋮          ⋮         ⋮         ⋮         ⋮               ⋱\n",
       "  91 │      1000        100        1.7     -0.7        0.5      0.1\n",
       "  92 │      1000        100        1.7     -0.7        0.5      0.1            ⋯\n",
       "  93 │      1000        100        1.7     -0.7        0.5      0.1\n",
       "  94 │      1000        100        1.7     -0.7        0.5      0.1\n",
       "  95 │      1000        100        1.7     -0.7        0.5      0.1\n",
       "  96 │      1000        100        1.7     -0.7        0.5      0.1            ⋯\n",
       "  97 │      1000        100        1.7     -0.7        0.5      0.1\n",
       "  98 │      1000        100        1.7     -0.7        0.5      0.1\n",
       "  99 │      1000        100        1.7     -0.7        0.5      0.1\n",
       " 100 │      1000        100        1.7     -0.7        0.5      0.1            ⋯\n",
       "\u001b[36m                                                  14 columns and 79 rows omitted\u001b[0m"
      ]
     },
     "execution_count": 11,
     "metadata": {},
     "output_type": "execute_result"
    }
   ],
   "source": [
    "param = Param(\n",
    "    initial_N = 1000,\n",
    "    initial_k = 100,\n",
    "    initial_w = 0.5,\n",
    "    initial_T = 1.7,\n",
    "    S = -0.7,\n",
    "    δ = 1.0,\n",
    "    β = 0.3,\n",
    "    sigma = 0.01,\n",
    "    initial_μ_s = 0.01,\n",
    "    initial_μ_c = 0.01,\n",
    "    generations = 1000,\n",
    "    variability_mode = MUTATION,\n",
    "    rng = MersenneTwister(1),\n",
    ")\n",
    "@time output_df1 = run(param, log_rate = 1.0, log_skip = 10)"
   ]
  },
  {
   "cell_type": "code",
   "execution_count": 5,
   "id": "92870085-3fcd-49d7-b2f2-9edbb206722d",
   "metadata": {
    "tags": []
   },
   "outputs": [],
   "source": [
    "# param = Param(\n",
    "#     initial_N = 500,\n",
    "#     initial_k = 100,\n",
    "#     initial_w = 0.5,\n",
    "#     initial_T = 1.1,\n",
    "#     S = -0.1,\n",
    "#     δ = 1.0,\n",
    "#     β = 0.5,\n",
    "#     sigma = 300,\n",
    "#     initial_μ_s = 0.01,\n",
    "#     initial_μ_c = 0.01,\n",
    "#     generations = 1000,\n",
    "#     variability_mode = POPULATION,\n",
    "# )\n",
    "# @time output_df2 = run(param)"
   ]
  },
  {
   "cell_type": "code",
   "execution_count": 6,
   "id": "8d92b011-8df7-4ac7-8c76-e8c512052ca9",
   "metadata": {
    "tags": []
   },
   "outputs": [],
   "source": [
    "# param = Param(\n",
    "#     initial_N = 500,\n",
    "#     initial_k = 498,\n",
    "#     initial_w = 0.5,\n",
    "#     initial_T = 1.1,\n",
    "#     S = -0.1,\n",
    "#     δ = 1.0,\n",
    "#     β = 0.5,\n",
    "#     sigma = 300,\n",
    "#     initial_μ_s = 0.01,\n",
    "#     initial_μ_c = 0.01,\n",
    "#     generations = 1000,\n",
    "#     variability_mode = POPULATION,\n",
    "# )\n",
    "# @time output_df3 = run(param)"
   ]
  },
  {
   "cell_type": "code",
   "execution_count": 7,
   "id": "8361bc79-833a-461c-be9a-13c915fec125",
   "metadata": {
    "tags": []
   },
   "outputs": [],
   "source": [
    "# plot(plot_line(output_df1), plot_line(output_df2), plot_line(output_df3), layout = (1, 3), size = (1200, 300))"
   ]
  },
  {
   "cell_type": "code",
   "execution_count": 8,
   "id": "2ef61f87-2f2a-450c-a286-ffccf56b7e07",
   "metadata": {
    "tags": []
   },
   "outputs": [],
   "source": [
    "# mean(output_df1.cooperation_rate),\n",
    "# mean(output_df2.cooperation_rate),\n",
    "# mean(output_df3.cooperation_rate)"
   ]
  }
 ],
 "metadata": {
  "kernelspec": {
   "display_name": "Julia 1.10.0",
   "language": "julia",
   "name": "julia-1.10"
  },
  "language_info": {
   "file_extension": ".jl",
   "mimetype": "application/julia",
   "name": "julia",
   "version": "1.10.0"
  }
 },
 "nbformat": 4,
 "nbformat_minor": 5
}
