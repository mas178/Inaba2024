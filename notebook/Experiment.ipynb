{
 "cells": [
  {
   "cell_type": "code",
   "execution_count": null,
   "id": "6491be8e-0c85-4929-9e95-ed0059903cfa",
   "metadata": {},
   "outputs": [],
   "source": [
    "using StatsBase: mean\n",
    "\n",
    "# Graph\n",
    "using Graphs: SimpleGraph, connected_components\n",
    "using SimpleWeightedGraphs: SimpleWeightedGraph\n",
    "\n",
    "# Plot\n",
    "using Plots: plot\n",
    "using Colors: distinguishable_colors, @colorant_str\n",
    "using GraphPlot: gplot, spring_layout\n",
    "using Compose\n",
    "\n",
    "# Original modules\n",
    "include(\"../src/Simulation.jl\")\n",
    "include(\"../src/SimPlot.jl\")\n",
    "using .Simulation\n",
    "using .SimPlot"
   ]
  },
  {
   "cell_type": "code",
   "execution_count": null,
   "id": "cbef132a-4cac-4978-95cc-6428e020d01e",
   "metadata": {},
   "outputs": [],
   "source": [
    "param = Param(\n",
    "    initial_N = 100,\n",
    "    initial_graph_weight = 0.2,\n",
    "    δ = 0.1,\n",
    "    β = 0.1,\n",
    "    σ = 0.1,\n",
    "    generations = 1_000,\n",
    ")\n",
    "df, graph_weights = Simulation.run(param)\n",
    "SimPlot.plot_output_df(df)"
   ]
  },
  {
   "cell_type": "code",
   "execution_count": null,
   "id": "38cad520-fcaa-4f37-8697-8b303a13f23c",
   "metadata": {},
   "outputs": [],
   "source": [
    "param = Param(\n",
    "    initial_N = 100,\n",
    "    initial_graph_weight = 0.2,\n",
    "    δ = 0.1,\n",
    "    β = 0.1,\n",
    "    σ = 0.1,\n",
    "    μ = 0.01,\n",
    "    generations = 1000,\n",
    ")\n",
    "\n",
    "model = Model(param)\n",
    "model.env_severity_vec = repeat([1.0], Int(model.param.initial_N))\n",
    "model.strategy_vec = rand(model.param.rng, [C, D], model.param.initial_N)\n",
    "\n",
    "output_df = Simulation.make_output_df(model.param)\n",
    "\n",
    "set_default_graphic_size(24cm, 8cm)\n",
    "\n",
    "strategy_vec_vec = []\n",
    "graph_weights_vec = []\n",
    "\n",
    "for generation = 1:model.param.generations\n",
    "    interaction!(model)\n",
    "    death_and_birth!(model, generation)\n",
    "    log!(output_df, generation, model)\n",
    "    push!(strategy_vec_vec, copy(model.strategy_vec))\n",
    "    push!(graph_weights_vec, model.graph_weights)\n",
    "end\n",
    "\n",
    "SimPlot.plot_output_df(output_df)"
   ]
  },
  {
   "cell_type": "code",
   "execution_count": null,
   "id": "df8e2c08-4537-4e6b-8580-71d237a67040",
   "metadata": {
    "scrolled": true
   },
   "outputs": [],
   "source": [
    "# for i in 120:180 # 協力率の急上昇局面\n",
    "for i in 400:450 # 集団サイズの急収縮局面\n",
    "    color_val_vec = [s == C ? colorant\"blue\" : colorant\"red\" for s in strategy_vec_vec[i]]\n",
    "    g25 = SimpleGraph(graph_weights_vec[i] .>= 0.25)\n",
    "    g50 = SimpleGraph(graph_weights_vec[i] .>= 0.50)\n",
    "    g75 = SimpleGraph(graph_weights_vec[i] .>= 0.75)\n",
    "\n",
    "    println(\"第$(i)世代\")\n",
    "    println(\"協力率: $(mean(strategy_vec_vec[i] .== C))\")\n",
    "    g25_components = [length(c) for c in connected_components(g25)]\n",
    "    g50_components = [length(c) for c in connected_components(g50)]\n",
    "    g75_components = [length(c) for c in connected_components(g75)]\n",
    "    println(\"弱い繋がりグループ: $(length(g25_components))個, $(g25_components)\")\n",
    "    println(\"中程度の繋がりグループ: $(length(g50_components))個, $(g50_components)\")\n",
    "    println(\"強い繋がりグループ: $(length(g75_components))個, $(g75_components)\")\n",
    "\n",
    "    display(hstack(\n",
    "        gplot(g25, nodefillc=color_val_vec, spring_layout(g25, C = 4.0)...),\n",
    "        gplot(g50, nodefillc=color_val_vec, spring_layout(g50, C = 4.0)...),\n",
    "        gplot(g75, nodefillc=color_val_vec, spring_layout(g75, C = 4.0)...)\n",
    "    ))\n",
    "\n",
    "    model.graph_weights = Simulation.convert_to_2nd_order_weights(graph_weights_vec[i])\n",
    "    Simulation.normalize_graph_weights!(model)\n",
    "    g25 = SimpleGraph(model.graph_weights .>= 0.25)\n",
    "    g50 = SimpleGraph(model.graph_weights .>= 0.50)\n",
    "    g75 = SimpleGraph(model.graph_weights .>= 0.75)\n",
    "    g25_components = [length(c) for c in connected_components(g25)]\n",
    "    g50_components = [length(c) for c in connected_components(g50)]\n",
    "    g75_components = [length(c) for c in connected_components(g75)]\n",
    "    println(\"弱い繋がりグループ: $(length(g25_components))個, $(g25_components)\")\n",
    "    println(\"中程度の繋がりグループ: $(length(g50_components))個, $(g50_components)\")\n",
    "    println(\"強い繋がりグループ: $(length(g75_components))個, $(g75_components)\")\n",
    "\n",
    "    display(hstack(\n",
    "        gplot(g25, nodefillc=color_val_vec, spring_layout(g25, C = 4.0)...),\n",
    "        gplot(g50, nodefillc=color_val_vec, spring_layout(g50, C = 4.0)...),\n",
    "        gplot(g75, nodefillc=color_val_vec, spring_layout(g75, C = 4.0)...)\n",
    "    ))\n",
    "end"
   ]
  },
  {
   "cell_type": "code",
   "execution_count": null,
   "id": "c54b5db8-d042-4529-a6b4-aca484322d21",
   "metadata": {},
   "outputs": [],
   "source": [
    "@show maximum(graph_weights)\n",
    "@show minimum(graph_weights)"
   ]
  },
  {
   "cell_type": "code",
   "execution_count": null,
   "id": "173d5c8b-ac92-4ff2-8624-752217f561e9",
   "metadata": {},
   "outputs": [],
   "source": [
    "G_0 = SimpleGraph(graph_weights .>= 0.0)\n",
    "G_1 = SimpleGraph(graph_weights .>= 0.1)\n",
    "G_2 = SimpleGraph(graph_weights .>= 0.2)\n",
    "G_4 = SimpleGraph(graph_weights .>= 0.4)\n",
    "G_5 = SimpleGraph(graph_weights .>= 0.5)\n",
    "G_6 = SimpleGraph(graph_weights .>= 0.6)\n",
    "G_8 = SimpleGraph(graph_weights .>= 0.8)\n",
    "G_9 = SimpleGraph(graph_weights .>= 0.9)\n",
    "G = SimpleWeightedGraph(graph_weights);"
   ]
  },
  {
   "cell_type": "code",
   "execution_count": null,
   "id": "7bd5d0de-69c2-49cc-a80a-a1d7b80bb2e9",
   "metadata": {},
   "outputs": [],
   "source": [
    "@show components = connected_components(G_4)\n",
    "@show component_count = length(components)\n",
    "colors = distinguishable_colors(component_count)\n",
    "display(colors)"
   ]
  },
  {
   "cell_type": "code",
   "execution_count": null,
   "id": "c4e4c602-7828-413f-9cbc-e132e96d59e6",
   "metadata": {},
   "outputs": [],
   "source": [
    "get_componets(g::SimpleGraph)::Vector{Int} =\n",
    "    sort([length(c) for c in connected_components(g)], rev = true)\n",
    "\n",
    "plot_graph(g::SimpleGraph) = gplot(g, spring_layout(g, C = 4.0)...);"
   ]
  },
  {
   "cell_type": "code",
   "execution_count": null,
   "id": "22eaa09b-5cd7-4a56-aa07-7da253200bb3",
   "metadata": {},
   "outputs": [],
   "source": [
    "@show get_componets(G_0)\n",
    "@show get_componets(G_1)\n",
    "@show get_componets(G_2)\n",
    "@show get_componets(G_4)\n",
    "@show get_componets(G_5)\n",
    "@show get_componets(G_6)\n",
    "@show get_componets(G_8)\n",
    "@show get_componets(G_9);"
   ]
  },
  {
   "cell_type": "code",
   "execution_count": null,
   "id": "94f893e1-f562-4437-a81e-3dfb488d3cec",
   "metadata": {},
   "outputs": [],
   "source": [
    "plot_graph(G_4)"
   ]
  },
  {
   "cell_type": "code",
   "execution_count": null,
   "id": "acdcc165-84f7-4bc0-9926-edd80058315e",
   "metadata": {},
   "outputs": [],
   "source": [
    "plot_graph(G_8)"
   ]
  },
  {
   "cell_type": "code",
   "execution_count": null,
   "id": "d97ca1b1-51aa-46ab-a4a6-b06727183279",
   "metadata": {},
   "outputs": [],
   "source": [
    "# for _df in df_vec\n",
    "#     p = SimPlot.plot_output_df(_df)\n",
    "#     # savefig(p, \"img/$(Dates.format(now(), \"yyyymmdd_HHMMSSsss\")).png\")\n",
    "#     display(p)\n",
    "# end"
   ]
  }
 ],
 "metadata": {
  "kernelspec": {
   "display_name": "Julia 1.9.3",
   "language": "julia",
   "name": "julia-1.9"
  },
  "language_info": {
   "file_extension": ".jl",
   "mimetype": "application/julia",
   "name": "julia",
   "version": "1.9.3"
  }
 },
 "nbformat": 4,
 "nbformat_minor": 5
}
